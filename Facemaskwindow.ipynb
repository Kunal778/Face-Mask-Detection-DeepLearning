{
 "cells": [
  {
   "cell_type": "markdown",
   "metadata": {},
   "source": [
    "# Realtime facemask Detection Code \n",
    "\n",
    "### Steps:-\n",
    "\n",
    "#### 1. Importing Required Libraries\n",
    "#### 2. Importing Saved Model from previous code and haarcascade for Face recognition\n",
    "#### 3. Capturing and showing realtime Frame\n",
    "#### 4. Face Detection using Haarcascade Images\n",
    "#### 5. Preprocessing of facial image detected by Haarcascade\n",
    "#### 6. Prediction of facial images and Result values plotting on frame"
   ]
  },
  {
   "cell_type": "code",
   "execution_count": 1,
   "metadata": {},
   "outputs": [],
   "source": [
    "#Importing Libraries\n",
    "import cv2\n",
    "import matplotlib.pyplot as plt\n",
    "import numpy as np\n",
    "import winsound"
   ]
  },
  {
   "cell_type": "code",
   "execution_count": 2,
   "metadata": {},
   "outputs": [
    {
     "name": "stderr",
     "output_type": "stream",
     "text": [
      "Using TensorFlow backend.\n"
     ]
    }
   ],
   "source": [
    "#Importing Preprocessing and model Libraries\n",
    "from keras.models import load_model\n",
    "from keras.preprocessing import image"
   ]
  },
  {
   "cell_type": "code",
   "execution_count": 3,
   "metadata": {},
   "outputs": [],
   "source": [
    "#Importing model\n",
    "model = load_model('FaceMask_Acc91.h5')"
   ]
  },
  {
   "cell_type": "code",
   "execution_count": 8,
   "metadata": {},
   "outputs": [],
   "source": [
    "cap = cv2.VideoCapture(0)\n",
    "\n",
    "#Importing haarcascade from Directory\n",
    "faceCascade = cv2.CascadeClassifier('haarcascade_frontalface_default.xml')\n",
    "\n",
    "while 1:\n",
    "    #Frame reading\n",
    "    ret,frame = cap.read()\n",
    "    #Applying FaceDetection Haarcascade on frame\n",
    "    faceDet = faceCascade.detectMultiScale(frame,1.2,5)\n",
    "    for x,y,w,h in faceDet:\n",
    "        \n",
    "        #Drawing Rectangle on Face\n",
    "        cv2.rectangle(frame,(x,y),(x+w,y+h),(0,255,0),3)\n",
    "        \n",
    "        #taking area of face in frame and preprocess it\n",
    "        img = frame[y:y+h,x:x+w]\n",
    "        img = cv2.resize(img,(256,256))\n",
    "        img = image.img_to_array(img)\n",
    "        img = np.expand_dims(img,axis=0)\n",
    "        img = img/255\n",
    "        \n",
    "        #prediction on preprocess image\n",
    "        result = model.predict_classes(img)[0] \n",
    "        \n",
    "        #Conditions for Face mask Detection as per previous code\n",
    "        if result == 1:\n",
    "            cv2.putText(frame,'Face Mask Detected',(x-10,y-10),cv2.FONT_HERSHEY_SIMPLEX,0.5,(0,255,0),1)\n",
    "        if result == 0:\n",
    "            cv2.putText(frame,'Face Mask not detected',(x-10,y-10),cv2.FONT_HERSHEY_SIMPLEX,0.5,(0,0,255),1)\n",
    "            winsound.Beep(1000, 100)\n",
    "        \n",
    "    #FaceMask window Showing    \n",
    "    cv2.imshow('FaceMask Window',frame)\n",
    "    \n",
    "    #Press Esc to exit window and Destroy all Windows\n",
    "    if cv2.waitKey(1) & 0xFF == 27:\n",
    "        break\n",
    "cap.release()\n",
    "cv2.destroyAllWindows()"
   ]
  },
  {
   "cell_type": "code",
   "execution_count": null,
   "metadata": {},
   "outputs": [],
   "source": []
  },
  {
   "cell_type": "code",
   "execution_count": null,
   "metadata": {},
   "outputs": [],
   "source": []
  }
 ],
 "metadata": {
  "kernelspec": {
   "display_name": "Python 3",
   "language": "python",
   "name": "python3"
  },
  "language_info": {
   "codemirror_mode": {
    "name": "ipython",
    "version": 3
   },
   "file_extension": ".py",
   "mimetype": "text/x-python",
   "name": "python",
   "nbconvert_exporter": "python",
   "pygments_lexer": "ipython3",
   "version": "3.6.6"
  }
 },
 "nbformat": 4,
 "nbformat_minor": 2
}
